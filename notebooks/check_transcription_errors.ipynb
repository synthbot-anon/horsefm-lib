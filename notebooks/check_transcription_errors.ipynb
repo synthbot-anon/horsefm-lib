{
 "cells": [
  {
   "cell_type": "code",
   "execution_count": 1,
   "metadata": {},
   "outputs": [
    {
     "name": "stdout",
     "output_type": "stream",
     "text": [
      "warning: ignoring ponysorter files\n",
      "loading /archives/celestia/Master File/Sliced Dialogue/EQG\n",
      "loading /archives/celestia/Master File/Sliced Dialogue/FiM\n",
      "loading /archives/celestia/Master File/Sliced Dialogue/Special source\n"
     ]
    },
    {
     "name": "stderr",
     "output_type": "stream",
     "text": [
      "Scanning audio files: 100%|██████████| 68498/68498 [00:00<00:00, 199950.89it/s]\n",
      "Scanning transcript files: 100%|██████████| 68498/68498 [00:00<00:00, 237677.86it/s]\n",
      "Scanning audacity files:  18%|█▊        | 288/1598 [00:01<00:09, 139.01it/s]"
     ]
    },
    {
     "name": "stdout",
     "output_type": "stream",
     "text": [
      "unknown character Jet Set \n"
     ]
    },
    {
     "name": "stderr",
     "output_type": "stream",
     "text": [
      "Scanning audacity files:  30%|██▉       | 473/1598 [00:02<00:06, 179.51it/s]"
     ]
    },
    {
     "name": "stdout",
     "output_type": "stream",
     "text": [
      "unknown character Applejack223\n",
      "unknown character Mrs.Cake\n"
     ]
    },
    {
     "name": "stderr",
     "output_type": "stream",
     "text": [
      "Scanning audacity files: 100%|██████████| 1598/1598 [00:10<00:00, 154.40it/s]\n",
      "Creating dataframe:  38%|███▊      | 34121/90530 [00:09<00:02, 20074.68it/s]"
     ]
    },
    {
     "name": "stdout",
     "output_type": "stream",
     "text": [
      "unknown tag Si\n",
      "unknown character Moody Root\n"
     ]
    },
    {
     "name": "stderr",
     "output_type": "stream",
     "text": [
      "Creating dataframe:  42%|████▏     | 37902/90530 [00:11<00:11, 4408.14it/s] "
     ]
    },
    {
     "name": "stdout",
     "output_type": "stream",
     "text": [
      "unknown character Petunia\n"
     ]
    },
    {
     "name": "stderr",
     "output_type": "stream",
     "text": [
      "Creating dataframe: 100%|██████████| 90530/90530 [00:23<00:00, 3916.34it/s] \n"
     ]
    },
    {
     "name": "stdout",
     "output_type": "stream",
     "text": [
      "done\n"
     ]
    }
   ],
   "source": [
    "# Load data from a folder\n",
    "\n",
    "from horsefm.datasets import clipper_datasets\n",
    "\n",
    "clipper_repo = '/archives/celestia/Master File'\n",
    "dialogue_dataset = clipper_datasets.mlp_dialogue_dataset(clipper_repo)\n",
    "data = dialogue_dataset.pandas()\n",
    "\n",
    "print('done')"
   ]
  },
  {
   "cell_type": "code",
   "execution_count": 37,
   "metadata": {},
   "outputs": [
    {
     "name": "stdout",
     "output_type": "stream",
     "text": [
      "This should be empty\n"
     ]
    },
    {
     "data": {
      "text/html": [
       "<div>\n",
       "<style scoped>\n",
       "    .dataframe tbody tr th:only-of-type {\n",
       "        vertical-align: middle;\n",
       "    }\n",
       "\n",
       "    .dataframe tbody tr th {\n",
       "        vertical-align: top;\n",
       "    }\n",
       "\n",
       "    .dataframe thead th {\n",
       "        text-align: right;\n",
       "    }\n",
       "</style>\n",
       "<table border=\"1\" class=\"dataframe\">\n",
       "  <thead>\n",
       "    <tr style=\"text-align: right;\">\n",
       "      <th></th>\n",
       "      <th>character</th>\n",
       "      <th>source</th>\n",
       "      <th>start</th>\n",
       "      <th>end</th>\n",
       "      <th>tags</th>\n",
       "      <th>noise</th>\n",
       "      <th>transcript</th>\n",
       "      <th>audio_path</th>\n",
       "    </tr>\n",
       "  </thead>\n",
       "  <tbody>\n",
       "  </tbody>\n",
       "</table>\n",
       "</div>"
      ],
      "text/plain": [
       "Empty DataFrame\n",
       "Columns: [character, source, start, end, tags, noise, transcript, audio_path]\n",
       "Index: []"
      ]
     },
     "execution_count": 37,
     "metadata": {},
     "output_type": "execute_result"
    }
   ],
   "source": [
    "# Make sure every audio file has a transcript\n",
    "\n",
    "from tqdm import tqdm\n",
    "\n",
    "audio_path = data['audio_path']\n",
    "transcript = data['transcript']\n",
    "\n",
    "print('This should be empty')\n",
    "data[audio_path.notna() & transcript.isna()]"
   ]
  }
 ],
 "metadata": {
  "kernelspec": {
   "display_name": "Python 3",
   "language": "python",
   "name": "python3"
  },
  "language_info": {
   "codemirror_mode": {
    "name": "ipython",
    "version": 3
   },
   "file_extension": ".py",
   "mimetype": "text/x-python",
   "name": "python",
   "nbconvert_exporter": "python",
   "pygments_lexer": "ipython3",
   "version": "3.11.9"
  }
 },
 "nbformat": 4,
 "nbformat_minor": 2
}
