{
 "cells": [
  {
   "cell_type": "code",
   "execution_count": null,
   "metadata": {},
   "outputs": [],
   "source": [
    "# Load data from a folder\n",
    "\n",
    "from horsefm.datasets import clipper_datasets\n",
    "\n",
    "masterfile_1 = '/path/to/Master File'\n",
    "masterfile_2 = '/path/to//Master File 2'\n",
    "clipper_dataset = clipper_datasets.mlp_dialogue_dataset(masterfile_1, masterfile_2)\n",
    "data = clipper_dataset.pandas()\n",
    "\n",
    "print('done')"
   ]
  },
  {
   "cell_type": "code",
   "execution_count": null,
   "metadata": {},
   "outputs": [],
   "source": [
    "# Make sure every audio file has a transcript\n",
    "\n",
    "from tqdm import tqdm\n",
    "\n",
    "audio_path = data['audio_path']\n",
    "transcript = data['transcript']\n",
    "\n",
    "print('This should be empty')\n",
    "data[audio_path.notna() & transcript.isna()]"
   ]
  }
 ],
 "metadata": {
  "kernelspec": {
   "display_name": "Python 3",
   "language": "python",
   "name": "python3"
  },
  "language_info": {
   "codemirror_mode": {
    "name": "ipython",
    "version": 3
   },
   "file_extension": ".py",
   "mimetype": "text/x-python",
   "name": "python",
   "nbconvert_exporter": "python",
   "pygments_lexer": "ipython3",
   "version": "3.11.9"
  }
 },
 "nbformat": 4,
 "nbformat_minor": 2
}
