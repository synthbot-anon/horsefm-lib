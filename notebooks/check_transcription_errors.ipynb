{
 "cells": [
  {
   "cell_type": "code",
   "execution_count": 1,
   "metadata": {},
   "outputs": [
    {
     "name": "stdout",
     "output_type": "stream",
     "text": [
      "warning: ignoring ponysorter files\n",
      "loading /archives/celestia/Master File/Sliced Dialogue/EQG\n",
      "loading /archives/celestia/Master File/Sliced Dialogue/FiM\n",
      "loading /archives/celestia/Master File/Sliced Dialogue/Special source\n"
     ]
    },
    {
     "name": "stderr",
     "output_type": "stream",
     "text": [
      "Scanning audio files: 100%|██████████| 68498/68498 [00:00<00:00, 199746.54it/s]\n",
      "Scanning transcript files: 100%|██████████| 68498/68498 [00:00<00:00, 240853.35it/s]\n",
      "Scanning audacity files:  18%|█▊        | 293/1598 [00:01<00:09, 135.51it/s]"
     ]
    },
    {
     "name": "stdout",
     "output_type": "stream",
     "text": [
      "unknown character Jet Set \n"
     ]
    },
    {
     "name": "stderr",
     "output_type": "stream",
     "text": [
      "Scanning audacity files:  30%|███       | 480/1598 [00:02<00:06, 167.28it/s]"
     ]
    },
    {
     "name": "stdout",
     "output_type": "stream",
     "text": [
      "unknown character Applejack223\n",
      "unknown character Mrs.Cake\n"
     ]
    },
    {
     "name": "stderr",
     "output_type": "stream",
     "text": [
      "Scanning audacity files: 100%|██████████| 1598/1598 [00:10<00:00, 152.55it/s]\n",
      "Creating dataframe:  40%|███▉      | 35957/90530 [00:09<00:02, 21116.90it/s]"
     ]
    },
    {
     "name": "stdout",
     "output_type": "stream",
     "text": [
      "unknown tag Si\n",
      "unknown character Moody Root\n",
      "unknown character Petunia\n"
     ]
    },
    {
     "name": "stderr",
     "output_type": "stream",
     "text": [
      "Creating dataframe: 100%|██████████| 90530/90530 [00:24<00:00, 3756.37it/s] \n"
     ]
    },
    {
     "name": "stdout",
     "output_type": "stream",
     "text": [
      "done\n"
     ]
    }
   ],
   "source": [
    "from horsefm.datasets import clipper_datasets\n",
    "\n",
    "clipper_repo = '/archives/celestia/Master File'\n",
    "dialogue_dataset = clipper_datasets.mlp_dialogue_dataset(clipper_repo)\n",
    "data = dialogue_dataset.pandas()\n",
    "\n",
    "\n",
    "print('done')"
   ]
  },
  {
   "cell_type": "code",
   "execution_count": 2,
   "metadata": {},
   "outputs": [
    {
     "data": {
      "text/html": [
       "<div>\n",
       "<style scoped>\n",
       "    .dataframe tbody tr th:only-of-type {\n",
       "        vertical-align: middle;\n",
       "    }\n",
       "\n",
       "    .dataframe tbody tr th {\n",
       "        vertical-align: top;\n",
       "    }\n",
       "\n",
       "    .dataframe thead th {\n",
       "        text-align: right;\n",
       "    }\n",
       "</style>\n",
       "<table border=\"1\" class=\"dataframe\">\n",
       "  <thead>\n",
       "    <tr style=\"text-align: right;\">\n",
       "      <th></th>\n",
       "      <th>character</th>\n",
       "      <th>source</th>\n",
       "      <th>start</th>\n",
       "      <th>end</th>\n",
       "      <th>tags</th>\n",
       "      <th>noise</th>\n",
       "      <th>transcript</th>\n",
       "      <th>audio_path</th>\n",
       "    </tr>\n",
       "  </thead>\n",
       "  <tbody>\n",
       "    <tr>\n",
       "      <th>0</th>\n",
       "      <td>Cadance</td>\n",
       "      <td>eqg:friendship games</td>\n",
       "      <td>955.003290</td>\n",
       "      <td>957.018320</td>\n",
       "      <td>[Neutral]</td>\n",
       "      <td>Noisy</td>\n",
       "      <td>You'll be doing everything on your own.</td>\n",
       "      <td>/archives/celestia/Master File/Sliced Dialogue...</td>\n",
       "    </tr>\n",
       "    <tr>\n",
       "      <th>1</th>\n",
       "      <td>Twilight Sparkle</td>\n",
       "      <td>eqg:friendship games</td>\n",
       "      <td>2582.378996</td>\n",
       "      <td>2584.456845</td>\n",
       "      <td>[Anxious, Sarcastic]</td>\n",
       "      <td>Very Noisy</td>\n",
       "      <td>Um, oh i don't know.</td>\n",
       "      <td>/archives/celestia/Master File/Sliced Dialogue...</td>\n",
       "    </tr>\n",
       "    <tr>\n",
       "      <th>2</th>\n",
       "      <td>Twilight Sparkle</td>\n",
       "      <td>eqg:friendship games</td>\n",
       "      <td>1721.000000</td>\n",
       "      <td>NaN</td>\n",
       "      <td>[Anxious, Confused]</td>\n",
       "      <td>Noisy</td>\n",
       "      <td>You know my dog's name too?</td>\n",
       "      <td>/archives/celestia/Master File/Sliced Dialogue...</td>\n",
       "    </tr>\n",
       "    <tr>\n",
       "      <th>3</th>\n",
       "      <td>Twilight Sparkle</td>\n",
       "      <td>eqg:friendship games</td>\n",
       "      <td>4056.452980</td>\n",
       "      <td>4060.318745</td>\n",
       "      <td>[Neutral]</td>\n",
       "      <td></td>\n",
       "      <td>and I'm definitely not gonna learn more about ...</td>\n",
       "      <td>/archives/celestia/Master File/Sliced Dialogue...</td>\n",
       "    </tr>\n",
       "    <tr>\n",
       "      <th>4</th>\n",
       "      <td>Cinch</td>\n",
       "      <td>eqg:friendship games</td>\n",
       "      <td>1194.493000</td>\n",
       "      <td>1198.024574</td>\n",
       "      <td>[Neutral]</td>\n",
       "      <td>Noisy</td>\n",
       "      <td>It doesn't matter whether or not crystal prep ...</td>\n",
       "      <td>/archives/celestia/Master File/Sliced Dialogue...</td>\n",
       "    </tr>\n",
       "    <tr>\n",
       "      <th>...</th>\n",
       "      <td>...</td>\n",
       "      <td>...</td>\n",
       "      <td>...</td>\n",
       "      <td>...</td>\n",
       "      <td>...</td>\n",
       "      <td>...</td>\n",
       "      <td>...</td>\n",
       "      <td>...</td>\n",
       "    </tr>\n",
       "    <tr>\n",
       "      <th>90525</th>\n",
       "      <td>Trixie</td>\n",
       "      <td>fim:s1e6</td>\n",
       "      <td>580.214325</td>\n",
       "      <td>582.749325</td>\n",
       "      <td>[Smug]</td>\n",
       "      <td>Noisy</td>\n",
       "      <td>Well come on, Show Trixie what you've got.</td>\n",
       "      <td>NaN</td>\n",
       "    </tr>\n",
       "    <tr>\n",
       "      <th>90526</th>\n",
       "      <td>Trixie</td>\n",
       "      <td>fim:s1e6</td>\n",
       "      <td>638.419426</td>\n",
       "      <td>646.074250</td>\n",
       "      <td>[Annoyed]</td>\n",
       "      <td>Noisy</td>\n",
       "      <td>Trixie is far too exhausted from performing fe...</td>\n",
       "      <td>NaN</td>\n",
       "    </tr>\n",
       "    <tr>\n",
       "      <th>90527</th>\n",
       "      <td>Spike</td>\n",
       "      <td>fim:s1e6</td>\n",
       "      <td>716.223720</td>\n",
       "      <td>719.648246</td>\n",
       "      <td>[Neutral]</td>\n",
       "      <td>Noisy</td>\n",
       "      <td>Twilight, would you put down that book and jus...</td>\n",
       "      <td>NaN</td>\n",
       "    </tr>\n",
       "    <tr>\n",
       "      <th>90528</th>\n",
       "      <td>Trixie</td>\n",
       "      <td>fim:s1e6</td>\n",
       "      <td>831.697805</td>\n",
       "      <td>835.916253</td>\n",
       "      <td>[Annoyed]</td>\n",
       "      <td>Noisy</td>\n",
       "      <td>Trixie thought she said the great and powerful...</td>\n",
       "      <td>NaN</td>\n",
       "    </tr>\n",
       "    <tr>\n",
       "      <th>90529</th>\n",
       "      <td>Spike</td>\n",
       "      <td>fim:s1e6</td>\n",
       "      <td>1289.489000</td>\n",
       "      <td>1292.924646</td>\n",
       "      <td>[Neutral]</td>\n",
       "      <td>Noisy</td>\n",
       "      <td>Okay, imagine me with a nice long fu manchu ty...</td>\n",
       "      <td>NaN</td>\n",
       "    </tr>\n",
       "  </tbody>\n",
       "</table>\n",
       "<p>90530 rows × 8 columns</p>\n",
       "</div>"
      ],
      "text/plain": [
       "              character                source        start          end  \\\n",
       "0               Cadance  eqg:friendship games   955.003290   957.018320   \n",
       "1      Twilight Sparkle  eqg:friendship games  2582.378996  2584.456845   \n",
       "2      Twilight Sparkle  eqg:friendship games  1721.000000          NaN   \n",
       "3      Twilight Sparkle  eqg:friendship games  4056.452980  4060.318745   \n",
       "4                 Cinch  eqg:friendship games  1194.493000  1198.024574   \n",
       "...                 ...                   ...          ...          ...   \n",
       "90525            Trixie              fim:s1e6   580.214325   582.749325   \n",
       "90526            Trixie              fim:s1e6   638.419426   646.074250   \n",
       "90527             Spike              fim:s1e6   716.223720   719.648246   \n",
       "90528            Trixie              fim:s1e6   831.697805   835.916253   \n",
       "90529             Spike              fim:s1e6  1289.489000  1292.924646   \n",
       "\n",
       "                       tags       noise  \\\n",
       "0                 [Neutral]       Noisy   \n",
       "1      [Anxious, Sarcastic]  Very Noisy   \n",
       "2       [Anxious, Confused]       Noisy   \n",
       "3                 [Neutral]               \n",
       "4                 [Neutral]       Noisy   \n",
       "...                     ...         ...   \n",
       "90525                [Smug]       Noisy   \n",
       "90526             [Annoyed]       Noisy   \n",
       "90527             [Neutral]       Noisy   \n",
       "90528             [Annoyed]       Noisy   \n",
       "90529             [Neutral]       Noisy   \n",
       "\n",
       "                                              transcript  \\\n",
       "0                You'll be doing everything on your own.   \n",
       "1                                   Um, oh i don't know.   \n",
       "2                            You know my dog's name too?   \n",
       "3      and I'm definitely not gonna learn more about ...   \n",
       "4      It doesn't matter whether or not crystal prep ...   \n",
       "...                                                  ...   \n",
       "90525         Well come on, Show Trixie what you've got.   \n",
       "90526  Trixie is far too exhausted from performing fe...   \n",
       "90527  Twilight, would you put down that book and jus...   \n",
       "90528  Trixie thought she said the great and powerful...   \n",
       "90529  Okay, imagine me with a nice long fu manchu ty...   \n",
       "\n",
       "                                              audio_path  \n",
       "0      /archives/celestia/Master File/Sliced Dialogue...  \n",
       "1      /archives/celestia/Master File/Sliced Dialogue...  \n",
       "2      /archives/celestia/Master File/Sliced Dialogue...  \n",
       "3      /archives/celestia/Master File/Sliced Dialogue...  \n",
       "4      /archives/celestia/Master File/Sliced Dialogue...  \n",
       "...                                                  ...  \n",
       "90525                                                NaN  \n",
       "90526                                                NaN  \n",
       "90527                                                NaN  \n",
       "90528                                                NaN  \n",
       "90529                                                NaN  \n",
       "\n",
       "[90530 rows x 8 columns]"
      ]
     },
     "execution_count": 2,
     "metadata": {},
     "output_type": "execute_result"
    }
   ],
   "source": [
    "data"
   ]
  }
 ],
 "metadata": {
  "kernelspec": {
   "display_name": "Python 3",
   "language": "python",
   "name": "python3"
  },
  "language_info": {
   "codemirror_mode": {
    "name": "ipython",
    "version": 3
   },
   "file_extension": ".py",
   "mimetype": "text/x-python",
   "name": "python",
   "nbconvert_exporter": "python",
   "pygments_lexer": "ipython3",
   "version": "3.11.9"
  }
 },
 "nbformat": 4,
 "nbformat_minor": 2
}
