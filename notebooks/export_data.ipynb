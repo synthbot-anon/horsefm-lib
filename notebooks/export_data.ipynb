{
 "cells": [
  {
   "cell_type": "code",
   "execution_count": null,
   "metadata": {},
   "outputs": [],
   "source": [
    "# Load data from a folder\n",
    "\n",
    "from horsefm.datasets import clipper_datasets\n",
    "\n",
    "clipper_repo = '/archives/celestia/Master File'\n",
    "dialogue_dataset = clipper_datasets.mlp_dialogue_dataset(clipper_repo)\n",
    "data = dialogue_dataset.pandas()\n",
    "\n",
    "print('done')"
   ]
  },
  {
   "cell_type": "code",
   "execution_count": null,
   "metadata": {},
   "outputs": [],
   "source": [
    "# Convert to a HuggingFace dataset\n",
    "\n",
    "from datasets import Dataset, Audio\n",
    "\n",
    "transcript = data['transcript']\n",
    "audio_path = data['audio_path']\n",
    "end = data['end']\n",
    "datapoints = (data[audio_path.notna() & end.notna()]\n",
    "    .rename(columns={\n",
    "        'audio_path': 'audio',\n",
    "        'character': 'speaker',\n",
    "        'tags': 'style',\n",
    "        'transcript': 'transcription',\n",
    "    })\n",
    "    \n",
    ")\n",
    "datapoints['style'] = datapoints['style'].apply(lambda x: ','.join(x))\n",
    "datapoints['duration'] = datapoints['end'] - datapoints['start']\n",
    "\n",
    "dataset = Dataset.from_dict(datapoints.to_dict(orient='list')).cast_column(\"audio\", Audio())"
   ]
  },
  {
   "cell_type": "code",
   "execution_count": null,
   "metadata": {},
   "outputs": [],
   "source": [
    "# Push to HuggingFace Hub\n",
    "\n",
    "dataset.push_to_hub(\"synthbot/pony-speech\")"
   ]
  }
 ],
 "metadata": {
  "kernelspec": {
   "display_name": "Python 3",
   "language": "python",
   "name": "python3"
  },
  "language_info": {
   "codemirror_mode": {
    "name": "ipython",
    "version": 3
   },
   "file_extension": ".py",
   "mimetype": "text/x-python",
   "name": "python",
   "nbconvert_exporter": "python",
   "pygments_lexer": "ipython3",
   "version": "3.11.9"
  }
 },
 "nbformat": 4,
 "nbformat_minor": 2
}
