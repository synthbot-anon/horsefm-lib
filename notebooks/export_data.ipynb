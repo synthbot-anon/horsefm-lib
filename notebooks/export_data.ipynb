{
 "cells": [
  {
   "cell_type": "code",
   "execution_count": null,
   "metadata": {},
   "outputs": [],
   "source": [
    "# Load data from a folder\n",
    "\n",
    "from horsefm.datasets import clipper_datasets\n",
    "\n",
    "masterfile_1 = '/path/to/Master File'\n",
    "masterfile_2 = '/path/to//Master File 2'\n",
    "clipper_dataset = clipper_datasets.mlp_dialogue_dataset(masterfile_1, masterfile_2)\n",
    "data = clipper_dataset.pandas()\n",
    "\n",
    "print('done')"
   ]
  },
  {
   "cell_type": "code",
   "execution_count": null,
   "metadata": {},
   "outputs": [],
   "source": [
    "# Convert the dialogue datapoints to a HuggingFace dataset & push to HF Hub\n",
    "\n",
    "from datasets import Dataset, Audio\n",
    "\n",
    "tags = data['tags']\n",
    "dialogue_data = data[tags.apply(lambda x: 'Singing' not in x)]\n",
    "\n",
    "transcript = dialogue_data['transcript']\n",
    "audio_path = dialogue_data['audio_path']\n",
    "end = dialogue_data['end']\n",
    "\n",
    "datapoints = (dialogue_data[audio_path.notna() & end.notna()]\n",
    "    .rename(columns={\n",
    "        'audio_path': 'audio',\n",
    "        'character': 'speaker',\n",
    "        'tags': 'style',\n",
    "        'transcript': 'transcription',\n",
    "    })\n",
    "    \n",
    ")\n",
    "datapoints['style'] = datapoints['style'].apply(lambda x: ','.join(x))\n",
    "datapoints['duration'] = datapoints['end'] - datapoints['start']\n",
    "\n",
    "dataset = Dataset.from_dict(datapoints.to_dict(orient='list')).cast_column(\"audio\", Audio())\n",
    "\n",
    "dataset.push_to_hub(\"synthbot/pony-speech\")"
   ]
  },
  {
   "cell_type": "code",
   "execution_count": null,
   "metadata": {},
   "outputs": [],
   "source": [
    "# Convert the singing datapoints to a HuggingFace dataset & push to HF Hub\n",
    "\n",
    "from datasets import Dataset, Audio\n",
    "\n",
    "tags = data['tags']\n",
    "dialogue_data = data[tags.apply(lambda x: 'Singing' in x)]\n",
    "\n",
    "transcript = dialogue_data['transcript']\n",
    "audio_path = dialogue_data['audio_path']\n",
    "end = dialogue_data['end']\n",
    "\n",
    "datapoints = (dialogue_data[audio_path.notna() & end.notna()]\n",
    "    .rename(columns={\n",
    "        'audio_path': 'audio',\n",
    "        'character': 'speaker',\n",
    "        'tags': 'style',\n",
    "        'transcript': 'transcription',\n",
    "    })\n",
    "    \n",
    ")\n",
    "datapoints['style'] = datapoints['style'].apply(lambda x: ','.join(x))\n",
    "datapoints['duration'] = datapoints['end'] - datapoints['start']\n",
    "\n",
    "dataset = Dataset.from_dict(datapoints.to_dict(orient='list')).cast_column(\"audio\", Audio())\n",
    "\n",
    "dataset.push_to_hub(\"synthbot/pony-singing\")\n"
   ]
  }
 ],
 "metadata": {
  "kernelspec": {
   "display_name": "Python 3",
   "language": "python",
   "name": "python3"
  },
  "language_info": {
   "codemirror_mode": {
    "name": "ipython",
    "version": 3
   },
   "file_extension": ".py",
   "mimetype": "text/x-python",
   "name": "python",
   "nbconvert_exporter": "python",
   "pygments_lexer": "ipython3",
   "version": "3.11.9"
  }
 },
 "nbformat": 4,
 "nbformat_minor": 2
}
